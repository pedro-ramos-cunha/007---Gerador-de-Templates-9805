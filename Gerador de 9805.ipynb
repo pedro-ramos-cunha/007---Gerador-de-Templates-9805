{
 "cells": [
  {
   "cell_type": "markdown",
   "metadata": {},
   "source": [
    "# Código Gerador de template do Arquivo 9805"
   ]
  },
  {
   "cell_type": "markdown",
   "metadata": {},
   "source": [
    "#### 0000 - Import das Bibliotecas"
   ]
  },
  {
   "cell_type": "code",
   "execution_count": 18,
   "metadata": {},
   "outputs": [],
   "source": [
    "import pandas as pd\n",
    "import numpy as np"
   ]
  },
  {
   "cell_type": "markdown",
   "metadata": {},
   "source": [
    "##### 0002B - Função Contador"
   ]
  },
  {
   "cell_type": "code",
   "execution_count": 19,
   "metadata": {},
   "outputs": [],
   "source": [
    "def counter (x):\n",
    "    if x>=0.0:\n",
    "        x=1\n",
    "    else:\n",
    "        x=0\n",
    "    return x"
   ]
  },
  {
   "cell_type": "markdown",
   "metadata": {},
   "source": [
    "#### 0001 - Carregamento do Arquivo Excel"
   ]
  },
  {
   "cell_type": "code",
   "execution_count": 20,
   "metadata": {},
   "outputs": [],
   "source": [
    "base = pd.read_csv('Pasta2.csv', sep=';', decimal=',')\n",
    "base.cpf = base.cpf.apply(lambda x: counter(x) )\n",
    "base.cnpj = base.cnpj.apply(lambda x: counter(x) )"
   ]
  },
  {
   "cell_type": "code",
   "execution_count": 26,
   "metadata": {},
   "outputs": [],
   "source": [
    "try:\n",
    "    base.drop(columns=['infAdicionais','id'], inplace=True)\n",
    "except:\n",
    "    pass\n",
    "\n",
    "base = base.groupby(['tipoEnvio','dataBase','cnpjIf','codOrigem','modalidadePagamento']).sum()\n",
    "base.reset_index(inplace=True)"
   ]
  },
  {
   "cell_type": "markdown",
   "metadata": {},
   "source": [
    "#### 0002 - Função de Verificação se 'Not a Number'"
   ]
  },
  {
   "cell_type": "code",
   "execution_count": 23,
   "metadata": {},
   "outputs": [],
   "source": [
    "def is_nan(value):\n",
    "    return value!=value\n"
   ]
  },
  {
   "cell_type": "markdown",
   "metadata": {},
   "source": [
    "#### 0003 - Confecção do Arquivo"
   ]
  },
  {
   "cell_type": "code",
   "execution_count": 24,
   "metadata": {},
   "outputs": [
    {
     "ename": "AttributeError",
     "evalue": "'DataFrame' object has no attribute 'id'",
     "output_type": "error",
     "traceback": [
      "\u001b[1;31m---------------------------------------------------------------------------\u001b[0m",
      "\u001b[1;31mAttributeError\u001b[0m                            Traceback (most recent call last)",
      "\u001b[1;32mc:\\Users\\DEATI.PEDROC\\OneDrive - BCB Azure\\Documentos\\Gerador de 9805.ipynb Célula: 13\u001b[0m in \u001b[0;36m<cell line: 1>\u001b[1;34m()\u001b[0m\n\u001b[0;32m     <a href='vscode-notebook-cell:/c%3A/Users/DEATI.PEDROC/OneDrive%20-%20BCB%20Azure/Documentos/Gerador%20de%209805.ipynb#X15sZmlsZQ%3D%3D?line=22'>23</a>\u001b[0m \u001b[39mfor\u001b[39;00m w \u001b[39min\u001b[39;00m data\u001b[39m.\u001b[39mindex:\n\u001b[0;32m     <a href='vscode-notebook-cell:/c%3A/Users/DEATI.PEDROC/OneDrive%20-%20BCB%20Azure/Documentos/Gerador%20de%209805.ipynb#X15sZmlsZQ%3D%3D?line=23'>24</a>\u001b[0m     arquivo\u001b[39m.\u001b[39mwrite(\u001b[39m'\u001b[39m\u001b[39m    <valor>\u001b[39m\u001b[39m\\n\u001b[39;00m\u001b[39m'\u001b[39m)\n\u001b[1;32m---> <a href='vscode-notebook-cell:/c%3A/Users/DEATI.PEDROC/OneDrive%20-%20BCB%20Azure/Documentos/Gerador%20de%209805.ipynb#X15sZmlsZQ%3D%3D?line=24'>25</a>\u001b[0m     arquivo\u001b[39m.\u001b[39mwrite(\u001b[39m'\u001b[39m\u001b[39m        <id>\u001b[39m\u001b[39m'\u001b[39m\u001b[39m+\u001b[39mdata\u001b[39m.\u001b[39;49mid[w]\u001b[39m+\u001b[39m\u001b[39m'\u001b[39m\u001b[39m</id>\u001b[39m\u001b[39m\\n\u001b[39;00m\u001b[39m'\u001b[39m)\n\u001b[0;32m     <a href='vscode-notebook-cell:/c%3A/Users/DEATI.PEDROC/OneDrive%20-%20BCB%20Azure/Documentos/Gerador%20de%209805.ipynb#X15sZmlsZQ%3D%3D?line=27'>28</a>\u001b[0m     \u001b[39m#preenchu\u001b[39;00m\n\u001b[0;32m     <a href='vscode-notebook-cell:/c%3A/Users/DEATI.PEDROC/OneDrive%20-%20BCB%20Azure/Documentos/Gerador%20de%209805.ipynb#X15sZmlsZQ%3D%3D?line=28'>29</a>\u001b[0m     valor_convertido_float \u001b[39m=\u001b[39m \u001b[39mfloat\u001b[39m(data\u001b[39m.\u001b[39mvalorADevolver[w])\n",
      "File \u001b[1;32mc:\\Users\\DEATI.PEDROC\\Anaconda3\\lib\\site-packages\\pandas\\core\\generic.py:5575\u001b[0m, in \u001b[0;36mNDFrame.__getattr__\u001b[1;34m(self, name)\u001b[0m\n\u001b[0;32m   5568\u001b[0m \u001b[39mif\u001b[39;00m (\n\u001b[0;32m   5569\u001b[0m     name \u001b[39mnot\u001b[39;00m \u001b[39min\u001b[39;00m \u001b[39mself\u001b[39m\u001b[39m.\u001b[39m_internal_names_set\n\u001b[0;32m   5570\u001b[0m     \u001b[39mand\u001b[39;00m name \u001b[39mnot\u001b[39;00m \u001b[39min\u001b[39;00m \u001b[39mself\u001b[39m\u001b[39m.\u001b[39m_metadata\n\u001b[0;32m   5571\u001b[0m     \u001b[39mand\u001b[39;00m name \u001b[39mnot\u001b[39;00m \u001b[39min\u001b[39;00m \u001b[39mself\u001b[39m\u001b[39m.\u001b[39m_accessors\n\u001b[0;32m   5572\u001b[0m     \u001b[39mand\u001b[39;00m \u001b[39mself\u001b[39m\u001b[39m.\u001b[39m_info_axis\u001b[39m.\u001b[39m_can_hold_identifiers_and_holds_name(name)\n\u001b[0;32m   5573\u001b[0m ):\n\u001b[0;32m   5574\u001b[0m     \u001b[39mreturn\u001b[39;00m \u001b[39mself\u001b[39m[name]\n\u001b[1;32m-> 5575\u001b[0m \u001b[39mreturn\u001b[39;00m \u001b[39mobject\u001b[39;49m\u001b[39m.\u001b[39;49m\u001b[39m__getattribute__\u001b[39;49m(\u001b[39mself\u001b[39;49m, name)\n",
      "\u001b[1;31mAttributeError\u001b[0m: 'DataFrame' object has no attribute 'id'"
     ]
    }
   ],
   "source": [
    "for x in base.cnpjIf.unique():\n",
    "    for y in base.dataBase.unique():\n",
    "        for z in base.tipoEnvio.unique():\n",
    "            if len(base[(base.cnpjIf == x)&(base.dataBase == y)&(base.tipoEnvio == z)]) >0:\n",
    "                data = base[(base.cnpjIf == x)&(base.dataBase == y)&(base.tipoEnvio == z)].copy()\n",
    "                cnpjif_string = str(int(x))\n",
    "                while len(cnpjif_string)<8:\n",
    "                    cnpjif_string = '0' + cnpjif_string\n",
    "                file_name ='9805_'+cnpjif_string +'_'+ str(z) +'_'+str(y) +'.xml'\n",
    "                arquivo = open(file_name, 'w+',encoding='utf8')\n",
    "\n",
    "                #Preenchimento do cabeçalho\n",
    "                arquivo.write('<?xml version=\"1.0\" encoding=\"UTF-8\"?>\\n')\n",
    "                arquivo.write('<asvr9805>\\n')\n",
    "                arquivo.write('   <codDoc>9805</codDoc>\\n')\n",
    "                arquivo.write('   <tipoEnvio>'+str(z)+'</tipoEnvio>\\n')\n",
    "                arquivo.write('   <dataBase>'+str(y)+'</dataBase>\\n')\n",
    "                \n",
    "                arquivo.write('   <cnpjIf>'+cnpjif_string+'</cnpjIf>\\n')\n",
    "\n",
    "\n",
    "                #Preenchimento dos dados\n",
    "                for w in data.index:\n",
    "                    arquivo.write('    <valor>\\n')\n",
    "\n",
    "                    #preenchimento dados\n",
    "                    valor_convertido_float = float(data.valorADevolver[w])\n",
    "                    valor_convertido_string = \"{:.2f}\".format(valor_convertido_float)\n",
    "                    arquivo.write('        <origem>'+'0' + str(data.codOrigem[w])+'</origem>\\n')\n",
    "                    arquivo.write('        <modalidadePagamento>'+ str(data.modalidadePagamento[w])+'</modalidadePagamento>\\n')\n",
    "                    arquivo.write('        <valorDevolvido>'+valor_convertido_string+'</valorDevolvido>\\n')\n",
    "\n",
    "                    if is_nan(data.cnpj[w]):\n",
    "                        cpf_int = int(data.cpf[w])\n",
    "                        cpf_string = str(cpf_int)\n",
    "                        while len(cpf_string)<11:\n",
    "                            cpf_string = '0' + cpf_string\n",
    "                        arquivo.write('        <qtdCpfsBeneficiados>'+cpf_string+'</qtdCpfsBeneficiados>\\n')\n",
    "                    else:\n",
    "                        cnpj_int = int(data.cnpj[w])\n",
    "                        cnpj_string = str(cnpj_int)\n",
    "                        while len(cnpj_string)<14:\n",
    "                            cnpj_string = '0' + cnpj_string\n",
    "                        arquivo.write('        <qtdCnpjsBeneficiados>'+str(cnpj_string)+'</qtdCnpjsBeneficiados>\\n')\n",
    "\n",
    "\n",
    "                    arquivo.write('    </valor>\\n')\n",
    "                arquivo.write('</asvr9805>\\n')\n",
    "\n",
    "                arquivo.close()"
   ]
  }
 ],
 "metadata": {
  "kernelspec": {
   "display_name": "Python 3.9.12 ('base')",
   "language": "python",
   "name": "python3"
  },
  "language_info": {
   "codemirror_mode": {
    "name": "ipython",
    "version": 3
   },
   "file_extension": ".py",
   "mimetype": "text/x-python",
   "name": "python",
   "nbconvert_exporter": "python",
   "pygments_lexer": "ipython3",
   "version": "3.9.12"
  },
  "orig_nbformat": 4,
  "vscode": {
   "interpreter": {
    "hash": "2cf350f9a4cec7c2d32d47a4331379ded410d2f4248a5923bbd06122472f3454"
   }
  }
 },
 "nbformat": 4,
 "nbformat_minor": 2
}
